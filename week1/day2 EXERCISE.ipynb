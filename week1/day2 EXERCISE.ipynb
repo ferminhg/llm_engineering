{
 "cells": [
  {
   "cell_type": "markdown",
   "id": "d15d8294-3328-4e07-ad16-8a03e9bbfdb9",
   "metadata": {},
   "source": [
    "# Welcome to your first assignment!\n",
    "\n",
    "Instructions are below. Please give this a try, and look in the solutions folder if you get stuck (or feel free to ask me!)"
   ]
  },
  {
   "cell_type": "markdown",
   "id": "ada885d9-4d42-4d9b-97f0-74fbbbfe93a9",
   "metadata": {},
   "source": [
    "<table style=\"margin: 0; text-align: left;\">\n",
    "    <tr>\n",
    "        <td style=\"width: 150px; height: 150px; vertical-align: middle;\">\n",
    "            <img src=\"../resources.jpg\" width=\"150\" height=\"150\" style=\"display: block;\" />\n",
    "        </td>\n",
    "        <td>\n",
    "            <h2 style=\"color:#f71;\">Just before we get to the assignment --</h2>\n",
    "            <span style=\"color:#f71;\">I thought I'd take a second to point you at this page of useful resources for the course. This includes links to all the slides.<br/>\n",
    "            <a href=\"https://edwarddonner.com/2024/11/13/llm-engineering-resources/\">https://edwarddonner.com/2024/11/13/llm-engineering-resources/</a><br/>\n",
    "            Please keep this bookmarked, and I'll continue to add more useful links there over time.\n",
    "            </span>\n",
    "        </td>\n",
    "    </tr>\n",
    "</table>"
   ]
  },
  {
   "cell_type": "markdown",
   "id": "6e9fa1fc-eac5-4d1d-9be4-541b3f2b3458",
   "metadata": {},
   "source": [
    "# HOMEWORK EXERCISE ASSIGNMENT\n",
    "\n",
    "Upgrade the day 1 project to summarize a webpage to use an Open Source model running locally via Ollama rather than OpenAI\n",
    "\n",
    "You'll be able to use this technique for all subsequent projects if you'd prefer not to use paid APIs.\n",
    "\n",
    "**Benefits:**\n",
    "1. No API charges - open-source\n",
    "2. Data doesn't leave your box\n",
    "\n",
    "**Disadvantages:**\n",
    "1. Significantly less power than Frontier Model\n",
    "\n",
    "## Recap on installation of Ollama\n",
    "\n",
    "Simply visit [ollama.com](https://ollama.com) and install!\n",
    "\n",
    "Once complete, the ollama server should already be running locally.  \n",
    "If you visit:  \n",
    "[http://localhost:11434/](http://localhost:11434/)\n",
    "\n",
    "You should see the message `Ollama is running`.  \n",
    "\n",
    "If not, bring up a new Terminal (Mac) or Powershell (Windows) and enter `ollama serve`  \n",
    "And in another Terminal (Mac) or Powershell (Windows), enter `ollama pull llama3.2`  \n",
    "Then try [http://localhost:11434/](http://localhost:11434/) again.\n",
    "\n",
    "If Ollama is slow on your machine, try using `llama3.2:1b` as an alternative. Run `ollama pull llama3.2:1b` from a Terminal or Powershell, and change the code below from `MODEL = \"llama3.2\"` to `MODEL = \"llama3.2:1b\"`"
   ]
  },
  {
   "cell_type": "code",
   "execution_count": 1,
   "id": "4e2a9393-7767-488e-a8bf-27c12dca35bd",
   "metadata": {},
   "outputs": [],
   "source": [
    "# imports\n",
    "\n",
    "import requests\n",
    "from bs4 import BeautifulSoup\n",
    "from IPython.display import Markdown, display"
   ]
  },
  {
   "cell_type": "code",
   "execution_count": 2,
   "id": "29ddd15d-a3c5-4f4e-a678-873f56162724",
   "metadata": {},
   "outputs": [],
   "source": [
    "# Constants\n",
    "\n",
    "OLLAMA_API = \"http://localhost:11434/api/chat\"\n",
    "HEADERS = {\"Content-Type\": \"application/json\"}\n",
    "MODEL = \"llama3.2\""
   ]
  },
  {
   "cell_type": "code",
   "execution_count": 3,
   "id": "dac0a679-599c-441f-9bf2-ddc73d35b940",
   "metadata": {},
   "outputs": [],
   "source": [
    "# Create a messages list using the same format that we used for OpenAI\n",
    "\n",
    "messages = [\n",
    "    {\"role\": \"user\", \"content\": \"Describe some of the business applications of Generative AI\"}\n",
    "]"
   ]
  },
  {
   "cell_type": "code",
   "execution_count": 4,
   "id": "7bb9c624-14f0-4945-a719-8ddb64f66f47",
   "metadata": {},
   "outputs": [],
   "source": [
    "payload = {\n",
    "        \"model\": MODEL,\n",
    "        \"messages\": messages,\n",
    "        \"stream\": False\n",
    "    }"
   ]
  },
  {
   "cell_type": "code",
   "execution_count": null,
   "id": "479ff514-e8bd-4985-a572-2ea28bb4fa40",
   "metadata": {},
   "outputs": [],
   "source": [
    "# Let's just make sure the model is loaded\n",
    "\n",
    "!ollama pull llama3.2"
   ]
  },
  {
   "cell_type": "code",
   "execution_count": 5,
   "id": "42b9f644-522d-4e05-a691-56e7658c0ea9",
   "metadata": {},
   "outputs": [
    {
     "name": "stdout",
     "output_type": "stream",
     "text": [
      "Generative AI has numerous business applications across various industries. Here are some examples:\n",
      "\n",
      "1. **Content Generation**: Generative AI can be used to generate high-quality content such as articles, social media posts, product descriptions, and more. This can help businesses save time and resources on content creation.\n",
      "2. **Product Design**: Generative AI can be used to design new products, such as furniture, clothing, or electronics. It can also be used to generate 3D models and prototypes.\n",
      "3. **Marketing Campaigns**: Generative AI can be used to create personalized marketing campaigns, such as targeted ads and email campaigns.\n",
      "4. **Customer Service**: Generative AI can be used to create chatbots that can provide customer support and answer frequently asked questions.\n",
      "5. **Creative Writing**: Generative AI can be used to generate creative writing, such as poetry or short stories.\n",
      "6. **Data Analysis**: Generative AI can be used to analyze large datasets and identify patterns and trends that may not be visible to human analysts.\n",
      "7. **Predictive Maintenance**: Generative AI can be used to predict equipment failures and schedule maintenance accordingly.\n",
      "8. **Cybersecurity**: Generative AI can be used to detect and respond to cyber threats in real-time.\n",
      "9. **Supply Chain Optimization**: Generative AI can be used to optimize supply chains by predicting demand, identifying bottlenecks, and suggesting alternative routes for transportation.\n",
      "10. **Financial Analysis**: Generative AI can be used to analyze financial data and identify investment opportunities.\n",
      "11. **Language Translation**: Generative AI can be used to translate languages in real-time, enabling businesses to communicate with customers in their native language.\n",
      "12. **Image Generation**: Generative AI can be used to generate high-quality images for use in marketing campaigns, product packaging, or advertising.\n",
      "13. **Music and Audio Generation**: Generative AI can be used to create original music tracks, sound effects, or audio loops for use in films, TV shows, or video games.\n",
      "14. **Fashion Design**: Generative AI can be used to design new fashion trends, generate patterns, and suggest color combinations.\n",
      "15. **Healthcare**: Generative AI can be used to analyze medical images, diagnose diseases, and predict patient outcomes.\n",
      "\n",
      "Some specific business applications of Generative AI include:\n",
      "\n",
      "* **Chatbots**: Companies like Facebook, Microsoft, and IBM use chatbots powered by Generative AI to provide customer support and answer frequently asked questions.\n",
      "* **Personalized marketing**: Companies like Amazon and Netflix use Generative AI to personalize product recommendations based on user behavior and preferences.\n",
      "* **Automated content generation**: Companies like Buzzfeed and Taboola use Generative AI to generate high-quality content for their platforms.\n",
      "* **Predictive maintenance**: Companies like GE Appliances and Siemens use Generative AI to predict equipment failures and schedule maintenance accordingly.\n",
      "\n",
      "These are just a few examples of the many business applications of Generative AI. As the technology continues to evolve, we can expect to see even more innovative uses in various industries.\n"
     ]
    }
   ],
   "source": [
    "# If this doesn't work for any reason, try the 2 versions in the following cells\n",
    "# And double check the instructions in the 'Recap on installation of Ollama' at the top of this lab\n",
    "# And if none of that works - contact me!\n",
    "\n",
    "response = requests.post(OLLAMA_API, json=payload, headers=HEADERS)\n",
    "print(response.json()['message']['content'])"
   ]
  },
  {
   "cell_type": "markdown",
   "id": "6a021f13-d6a1-4b96-8e18-4eae49d876fe",
   "metadata": {},
   "source": [
    "# Introducing the ollama package\n",
    "\n",
    "And now we'll do the same thing, but using the elegant ollama python package instead of a direct HTTP call.\n",
    "\n",
    "Under the hood, it's making the same call as above to the ollama server running at localhost:11434"
   ]
  },
  {
   "cell_type": "code",
   "execution_count": 6,
   "id": "7745b9c4-57dc-4867-9180-61fa5db55eb8",
   "metadata": {},
   "outputs": [
    {
     "name": "stdout",
     "output_type": "stream",
     "text": [
      "Generative AI has numerous business applications across various industries, including:\n",
      "\n",
      "1. **Content Creation**: Generative AI can generate high-quality content such as images, videos, music, and text. This can be used for:\n",
      " * Creating social media posts and advertising campaigns\n",
      " * Developing product descriptions and marketing materials\n",
      " * Generating news articles and blog posts\n",
      " * Creating personalized content for customers\n",
      "2. **Marketing and Advertising**: Generative AI can help with:\n",
      " * Personalized product recommendations based on customer behavior\n",
      " * Automated ad targeting and optimization\n",
      " * Content generation for social media and online advertising\n",
      " * Predictive analytics for market trends and consumer preferences\n",
      "3. **Customer Service and Support**: Generative AI can be used to:\n",
      " * Automate chatbots and provide 24/7 customer support\n",
      " * Generate personalized responses to customer inquiries\n",
      " * Analyze customer feedback and sentiment analysis\n",
      "4. **Product Design and Development**: Generative AI can help with:\n",
      " * Designing new products and prototypes\n",
      " * Generating 3D models and product designs\n",
      " * Conducting design optimization and simulation\n",
      "5. **Data Analysis and Insights**: Generative AI can be used to:\n",
      " * Analyze large datasets and generate insights\n",
      " * Identify patterns and trends in customer behavior\n",
      " * Predict market trends and forecast sales\n",
      "6. **Financial Services**: Generative AI can help with:\n",
      " * Risk analysis and credit scoring\n",
      " * Automated investment and portfolio management\n",
      " * Generating financial reports and statements\n",
      "7. **Healthcare and Biotechnology**: Generative AI can be used to:\n",
      " * Develop personalized treatment plans for patients\n",
      " * Generate synthetic data for medical research\n",
      " * Analyze medical imaging data and diagnose diseases\n",
      "8. **Manufacturing and Supply Chain**: Generative AI can help with:\n",
      " * Predicting demand and inventory management\n",
      " * Optimizing production processes and supply chain management\n",
      " * Generating design options for product development\n",
      "\n",
      "These are just a few examples of the many business applications of Generative AI. As the technology continues to evolve, we can expect to see even more innovative uses across various industries.\n"
     ]
    }
   ],
   "source": [
    "import ollama\n",
    "\n",
    "response = ollama.chat(model=MODEL, messages=messages)\n",
    "print(response['message']['content'])"
   ]
  },
  {
   "cell_type": "markdown",
   "id": "a4704e10-f5fb-4c15-a935-f046c06fb13d",
   "metadata": {},
   "source": [
    "## Alternative approach - using OpenAI python library to connect to Ollama"
   ]
  },
  {
   "cell_type": "code",
   "execution_count": null,
   "id": "23057e00-b6fc-4678-93a9-6b31cb704bff",
   "metadata": {},
   "outputs": [],
   "source": [
    "# There's actually an alternative approach that some people might prefer\n",
    "# You can use the OpenAI client python library to call Ollama:\n",
    "\n",
    "from openai import OpenAI\n",
    "ollama_via_openai = OpenAI(base_url='http://localhost:11434/v1', api_key='ollama')\n",
    "\n",
    "response = ollama_via_openai.chat.completions.create(\n",
    "    model=MODEL,\n",
    "    messages=messages\n",
    ")\n",
    "\n",
    "print(response.choices[0].message.content)"
   ]
  },
  {
   "cell_type": "markdown",
   "id": "9f9e22da-b891-41f6-9ac9-bd0c0a5f4f44",
   "metadata": {},
   "source": [
    "## Are you confused about why that works?\n",
    "\n",
    "It seems strange, right? We just used OpenAI code to call Ollama?? What's going on?!\n",
    "\n",
    "Here's the scoop:\n",
    "\n",
    "The python class `OpenAI` is simply code written by OpenAI engineers that makes calls over the internet to an endpoint.  \n",
    "\n",
    "When you call `openai.chat.completions.create()`, this python code just makes a web request to the following url: \"https://api.openai.com/v1/chat/completions\"\n",
    "\n",
    "Code like this is known as a \"client library\" - it's just wrapper code that runs on your machine to make web requests. The actual power of GPT is running on OpenAI's cloud behind this API, not on your computer!\n",
    "\n",
    "OpenAI was so popular, that lots of other AI providers provided identical web endpoints, so you could use the same approach.\n",
    "\n",
    "So Ollama has an endpoint running on your local box at http://localhost:11434/v1/chat/completions  \n",
    "And in week 2 we'll discover that lots of other providers do this too, including Gemini and DeepSeek.\n",
    "\n",
    "And then the team at OpenAI had a great idea: they can extend their client library so you can specify a different 'base url', and use their library to call any compatible API.\n",
    "\n",
    "That's it!\n",
    "\n",
    "So when you say: `ollama_via_openai = OpenAI(base_url='http://localhost:11434/v1', api_key='ollama')`  \n",
    "Then this will make the same endpoint calls, but to Ollama instead of OpenAI."
   ]
  },
  {
   "cell_type": "markdown",
   "id": "bc7d1de3-e2ac-46ff-a302-3b4ba38c4c90",
   "metadata": {},
   "source": [
    "## Also trying the amazing reasoning model DeepSeek\n",
    "\n",
    "Here we use the version of DeepSeek-reasoner that's been distilled to 1.5B.  \n",
    "This is actually a 1.5B variant of Qwen that has been fine-tuned using synethic data generated by Deepseek R1.\n",
    "\n",
    "Other sizes of DeepSeek are [here](https://ollama.com/library/deepseek-r1) all the way up to the full 671B parameter version, which would use up 404GB of your drive and is far too large for most!"
   ]
  },
  {
   "cell_type": "code",
   "execution_count": null,
   "id": "cf9eb44e-fe5b-47aa-b719-0bb63669ab3d",
   "metadata": {},
   "outputs": [],
   "source": [
    "!ollama pull deepseek-r1:1.5b"
   ]
  },
  {
   "cell_type": "code",
   "execution_count": null,
   "id": "1d3d554b-e00d-4c08-9300-45e073950a76",
   "metadata": {},
   "outputs": [],
   "source": [
    "# This may take a few minutes to run! You should then see a fascinating \"thinking\" trace inside <think> tags, followed by some decent definitions\n",
    "\n",
    "response = ollama_via_openai.chat.completions.create(\n",
    "    model=\"deepseek-r1:1.5b\",\n",
    "    messages=[{\"role\": \"user\", \"content\": \"Please give definitions of some core concepts behind LLMs: a neural network, attention and the transformer\"}]\n",
    ")\n",
    "\n",
    "print(response.choices[0].message.content)"
   ]
  },
  {
   "cell_type": "markdown",
   "id": "1622d9bb-5c68-4d4e-9ca4-b492c751f898",
   "metadata": {},
   "source": [
    "# NOW the exercise for you\n",
    "\n",
    "Take the code from day1 and incorporate it here, to build a website summarizer that uses Llama 3.2 running locally instead of OpenAI; use either of the above approaches."
   ]
  },
  {
   "cell_type": "code",
   "execution_count": 2,
   "id": "540df56a",
   "metadata": {},
   "outputs": [],
   "source": [
    "import requests\n",
    "from bs4 import BeautifulSoup\n",
    "from IPython.display import Markdown, display\n"
   ]
  },
  {
   "cell_type": "code",
   "execution_count": 4,
   "id": "f79eacda",
   "metadata": {},
   "outputs": [],
   "source": [
    "headers = {\n",
    " \"User-Agent\": \"Mozilla/5.0 (Windows NT 10.0; Win64; x64) AppleWebKit/537.36 (KHTML, like Gecko) Chrome/117.0.0.0 Safari/537.36\"\n",
    "}\n",
    "\n",
    "class Website:\n",
    "\n",
    "    def __init__(self, url):\n",
    "        \"\"\"\n",
    "        Create this Website object from the given url using the BeautifulSoup library\n",
    "        \"\"\"\n",
    "        self.url = url\n",
    "        response = requests.get(url, headers=headers)\n",
    "        soup = BeautifulSoup(response.content, 'html.parser')\n",
    "        self.title = soup.title.string if soup.title else \"No title found\"\n",
    "        for irrelevant in soup.body([\"script\", \"style\", \"img\", \"input\"]):\n",
    "            irrelevant.decompose()\n",
    "        self.text = soup.body.get_text(separator=\"\\n\", strip=True)"
   ]
  },
  {
   "cell_type": "code",
   "execution_count": 8,
   "id": "59255920",
   "metadata": {},
   "outputs": [
    {
     "name": "stdout",
     "output_type": "stream",
     "text": [
      "Breaking Through the Performance Plateau\n",
      "Sponsored Content\n",
      "Breaking Through the Performance Plateau\n",
      "The new era of intelligent advertising is here\n",
      "By\n",
      "Eric Danetz, President, Cognitiv\n",
      "2025 is shaping up to be the year of “performance,” but as technology advances, so does advertisers’ understanding of what that word really means. What used to be a simple equation of clicks and conversions has evolved into a much more reﬁned approach that aligns speciﬁc KPIs unique to each advertiser.\n",
      "With 42% of advertisers planning to increase their spend on performance advertising this year, according to WFA and Ebiquity’s\n",
      "“2025 Media Budgets Survey,”\n",
      "the focus is shifting to what truly drives success for each brand.\n",
      "A brand advertiser might deﬁne performance as an increase in awareness or purchase intent while a retailer focuses on sales or foot traﬃc. Generic proxy metrics no longer cut it. To truly measure performance, advertisers are embracing more sophisticated approaches—media mix modeling, multitouch attribution, and incremental lift that tells them something useful.\n",
      "Why advertisers are hitting the wall\n",
      "The push for advanced performance measurement comes down to one thing: Many advertisers are hitting a plateau. And when growth stalls, the ﬁrst step to correct it is understanding why. There are several industry trends causing this stagnation:\n",
      "Undifferentiated audience data:\n",
      "Everyone’s drinking from the same data well. When you rely on the same third-party data sources as your competitors, your ability to reach new, untapped audiences becomes severely limited.\n",
      "Overly restrictive brand safety\n",
      ": Those blunt keyword blocklists are killing your reach. They eliminate too much quality content, reducing scale or pushing spend to lower-quality placements.\n",
      "Ineffective contextual targeting:\n",
      "Broad, keyword-based strategies are too imprecise to deliver the targeting you actually need.\n",
      "At the same time, measurement capabilities have dramatically improved. The digitization of advertising is a game-changer. Take CTV, for example—it’s giving advertisers signiﬁcantly more measurability than linear TV ever could. Now, advertisers have a degree of clarity into campaign performance that wasn’t possible before. If they’re hitting the same audience over and over or running into scale limitations, an advertiser can now pinpoint the problem—and demand better solutions. No more guesswork.\n",
      "Drive real incremental lift\n",
      "The reality is simple: If you want better results, you’ve got to step outside what’s been working—or not working—and test new approaches and technologies. The key is knowing what to test and quantifying the risk versus reward.\n",
      "For example, when Welch’s needed to boost its sparkling grape juice sales, the brand didn’t just throw money at the same old targeting. Welch’s combined Cognitiv’s deep learning algorithms with in-store purchase data from Circana to identify genuinely new audiences. Cognitiv’s technology analyzed behavioral patterns of existing consumers, pinpointing audiences with similar preferences and higher purchase intent. As a result, Welch’s achieved a 47% higher engagement rate for relevant buyer groups vs. the client benchmarks.\n",
      "Find technology that delivers\n",
      "The adtech landscape is ﬂooded with vendors making extravagant claims about their AI capabilities. To ﬁnd solutions that drive lift, you need to ask hard questions about what’s genuinely different in their approach.\n",
      "You can achieve real incremental gains with an AI solution that frees up impressions previously blocked by outdated, overly cautious brand safety technology. Cognitiv demonstrated this with a major entertainment company using the ContextGPT tool to reach audiences for the company’s campaign. Unlike basic keyword-based targeting, the technology dynamically analyzed the real-time content that users were actively engaging with, delivering precisely targeted ads based on actual content engagement patterns. As a result, the campaign outperformed other partners with a 26X lower cost per unique reach, dramatically improving efficiency and performance.\n",
      "The power of ongoing optimization\n",
      "The signiﬁcant improvement in measurement capabilities is a genuine step forward for the industry. Advertising becomes vastly more effective when advertisers can clearly see what’s working and adjust their media plans accordingly.\n",
      "This requires not just measuring overall campaign performance, but implementing proper testing frameworks with controls and incremental lift analysis. When working with a leading cruise line to enhance its CTV strategy, Cognitiv went beyond automatic content recognition and content targeting to analyze the full user journey. By leveraging deep learning and sequential messaging across CTV and display, Cognitiv identiﬁed high-value prospects and optimized ad exposure sequencing—outperforming the client’s blended CPA benchmark by 45%.\n",
      "Solutions using genuine deep learning can incorporate inputs in real time and optimize mid-campaign, reducing waste and creating positive optimization cycles. Advertisers who embrace these feedback loops will break free from performance plateaus faster and achieve substantially better results than those clinging to outdated approaches.\n",
      "—\n",
      "Eric Danetz is president at Cognitiv where he leads all revenue-focused operations. Prior to Cognitiv, Danetz held global leadership roles at iconic media brands including AccuWeather and Reuters, in addition to advising numerous technology start-ups.\n",
      "Popular Now\n",
      "EXCLUSIVE: Horizon Wins Spectrum’s $450 Million Media Account\n",
      "EXCLUSIVE: Omnicom Clients Can Get $200K Value Boost for Advertising on X, Leaked Docs Show\n",
      "The New Rules of Seamless Shopping\n",
      "Scope3 Takes on IAS, DoubleVerify With Custom AI Agents for Brand Safety\n",
      "Marc Lore’s Wonder Acquires Tastemade to Build an Advertising Business\n",
      "Upcoming Webinars\n",
      "Data-Driven Conversations That Move And Resonate\n",
      "Thursday, April 3, 2025\n",
      "The Secret to Unlocking Customer Lifetime Value\n",
      "Wednesday, April 9, 2025\n",
      "The New Rules of Great TV Creative\n",
      "Wednesday, April 16, 2025\n",
      "Unlocking TV-Quality Content on YouTube\n",
      "Tuesday, April 22, 2025\n",
      "Maximize Impact by Making Data-Driven Decisions With Brand Lift\n",
      "Thursday, April 24, 2025\n",
      "Adweek is the leading source of news and insight serving the brand marketing ecosystem.\n",
      "About\n",
      "About Us\n",
      "Contact Us\n",
      "Media Kit\n",
      "Editorial Calendar\n",
      "Event Calendar\n",
      "Marketing Vanguard\n",
      "Sponsor Content\n",
      "Industry Job Openings\n",
      "Subscriptions\n",
      "Subscription Options\n",
      "FAQs\n",
      "Newsletters\n",
      "Customer Service\n",
      "Events\n",
      "ADWEEK Connect\n",
      "ADWEEK Events\n",
      "Awards\n",
      "On-Demand Event Videos\n",
      "On-Demand Webinars\n",
      "Trophies / Awards / Seals\n",
      "Webinars\n",
      "Publications\n",
      "ADWEEK Blog Network\n",
      "ADWEEK Podcast Network\n",
      "Back Issues\n",
      "Buy Vintage Ads\n",
      "Reprints / E-Prints\n",
      "RSS\n",
      "©2025 Adweek - All Rights Reserved.\n",
      "Do not sell my personal information\n",
      "Terms of Use\n",
      "Privacy Policy\n"
     ]
    }
   ],
   "source": [
    "adWeek = Website(\"https://www.adweek.com/sponsored/breaking-through-the-performance-plateau/\")\n",
    "print(adWeek.title)\n",
    "print(adWeek.text)"
   ]
  },
  {
   "cell_type": "code",
   "execution_count": 12,
   "id": "e4af5f88",
   "metadata": {},
   "outputs": [],
   "source": [
    "system_prompt = \"You are an assistant that analyzes the contents of a website \\\n",
    "and provides a short summary, ignoring text that might be navigation related. \\\n",
    "Respond in markdown.\"\n",
    "\n",
    "def user_prompt_for(website):\n",
    "    user_prompt = f\"You are looking at a website titled {website.title}\"\n",
    "    user_prompt += \"\\nThe contents of this website is as follows; \\\n",
    "please provide a short summary of this website in markdown. \\\n",
    "If it includes news or announcements, then summarize these too.\\n\\n\"\n",
    "    user_prompt += website.text\n",
    "    return user_prompt"
   ]
  },
  {
   "cell_type": "code",
   "execution_count": 9,
   "id": "ae76328a",
   "metadata": {},
   "outputs": [
    {
     "name": "stdout",
     "output_type": "stream",
     "text": [
      "You are looking at a website titled Breaking Through the Performance Plateau\n",
      "The contents of this website is as follows; please provide a short summary of this website in markdown. If it includes news or announcements, then summarize these too.\n",
      "\n",
      "Sponsored Content\n",
      "Breaking Through the Performance Plateau\n",
      "The new era of intelligent advertising is here\n",
      "By\n",
      "Eric Danetz, President, Cognitiv\n",
      "2025 is shaping up to be the year of “performance,” but as technology advances, so does advertisers’ understanding of what that word really means. What used to be a simple equation of clicks and conversions has evolved into a much more reﬁned approach that aligns speciﬁc KPIs unique to each advertiser.\n",
      "With 42% of advertisers planning to increase their spend on performance advertising this year, according to WFA and Ebiquity’s\n",
      "“2025 Media Budgets Survey,”\n",
      "the focus is shifting to what truly drives success for each brand.\n",
      "A brand advertiser might deﬁne performance as an increase in awareness or purchase intent while a retailer focuses on sales or foot traﬃc. Generic proxy metrics no longer cut it. To truly measure performance, advertisers are embracing more sophisticated approaches—media mix modeling, multitouch attribution, and incremental lift that tells them something useful.\n",
      "Why advertisers are hitting the wall\n",
      "The push for advanced performance measurement comes down to one thing: Many advertisers are hitting a plateau. And when growth stalls, the ﬁrst step to correct it is understanding why. There are several industry trends causing this stagnation:\n",
      "Undifferentiated audience data:\n",
      "Everyone’s drinking from the same data well. When you rely on the same third-party data sources as your competitors, your ability to reach new, untapped audiences becomes severely limited.\n",
      "Overly restrictive brand safety\n",
      ": Those blunt keyword blocklists are killing your reach. They eliminate too much quality content, reducing scale or pushing spend to lower-quality placements.\n",
      "Ineffective contextual targeting:\n",
      "Broad, keyword-based strategies are too imprecise to deliver the targeting you actually need.\n",
      "At the same time, measurement capabilities have dramatically improved. The digitization of advertising is a game-changer. Take CTV, for example—it’s giving advertisers signiﬁcantly more measurability than linear TV ever could. Now, advertisers have a degree of clarity into campaign performance that wasn’t possible before. If they’re hitting the same audience over and over or running into scale limitations, an advertiser can now pinpoint the problem—and demand better solutions. No more guesswork.\n",
      "Drive real incremental lift\n",
      "The reality is simple: If you want better results, you’ve got to step outside what’s been working—or not working—and test new approaches and technologies. The key is knowing what to test and quantifying the risk versus reward.\n",
      "For example, when Welch’s needed to boost its sparkling grape juice sales, the brand didn’t just throw money at the same old targeting. Welch’s combined Cognitiv’s deep learning algorithms with in-store purchase data from Circana to identify genuinely new audiences. Cognitiv’s technology analyzed behavioral patterns of existing consumers, pinpointing audiences with similar preferences and higher purchase intent. As a result, Welch’s achieved a 47% higher engagement rate for relevant buyer groups vs. the client benchmarks.\n",
      "Find technology that delivers\n",
      "The adtech landscape is ﬂooded with vendors making extravagant claims about their AI capabilities. To ﬁnd solutions that drive lift, you need to ask hard questions about what’s genuinely different in their approach.\n",
      "You can achieve real incremental gains with an AI solution that frees up impressions previously blocked by outdated, overly cautious brand safety technology. Cognitiv demonstrated this with a major entertainment company using the ContextGPT tool to reach audiences for the company’s campaign. Unlike basic keyword-based targeting, the technology dynamically analyzed the real-time content that users were actively engaging with, delivering precisely targeted ads based on actual content engagement patterns. As a result, the campaign outperformed other partners with a 26X lower cost per unique reach, dramatically improving efficiency and performance.\n",
      "The power of ongoing optimization\n",
      "The signiﬁcant improvement in measurement capabilities is a genuine step forward for the industry. Advertising becomes vastly more effective when advertisers can clearly see what’s working and adjust their media plans accordingly.\n",
      "This requires not just measuring overall campaign performance, but implementing proper testing frameworks with controls and incremental lift analysis. When working with a leading cruise line to enhance its CTV strategy, Cognitiv went beyond automatic content recognition and content targeting to analyze the full user journey. By leveraging deep learning and sequential messaging across CTV and display, Cognitiv identiﬁed high-value prospects and optimized ad exposure sequencing—outperforming the client’s blended CPA benchmark by 45%.\n",
      "Solutions using genuine deep learning can incorporate inputs in real time and optimize mid-campaign, reducing waste and creating positive optimization cycles. Advertisers who embrace these feedback loops will break free from performance plateaus faster and achieve substantially better results than those clinging to outdated approaches.\n",
      "—\n",
      "Eric Danetz is president at Cognitiv where he leads all revenue-focused operations. Prior to Cognitiv, Danetz held global leadership roles at iconic media brands including AccuWeather and Reuters, in addition to advising numerous technology start-ups.\n",
      "Popular Now\n",
      "EXCLUSIVE: Horizon Wins Spectrum’s $450 Million Media Account\n",
      "EXCLUSIVE: Omnicom Clients Can Get $200K Value Boost for Advertising on X, Leaked Docs Show\n",
      "The New Rules of Seamless Shopping\n",
      "Scope3 Takes on IAS, DoubleVerify With Custom AI Agents for Brand Safety\n",
      "Marc Lore’s Wonder Acquires Tastemade to Build an Advertising Business\n",
      "Upcoming Webinars\n",
      "Data-Driven Conversations That Move And Resonate\n",
      "Thursday, April 3, 2025\n",
      "The Secret to Unlocking Customer Lifetime Value\n",
      "Wednesday, April 9, 2025\n",
      "The New Rules of Great TV Creative\n",
      "Wednesday, April 16, 2025\n",
      "Unlocking TV-Quality Content on YouTube\n",
      "Tuesday, April 22, 2025\n",
      "Maximize Impact by Making Data-Driven Decisions With Brand Lift\n",
      "Thursday, April 24, 2025\n",
      "Adweek is the leading source of news and insight serving the brand marketing ecosystem.\n",
      "About\n",
      "About Us\n",
      "Contact Us\n",
      "Media Kit\n",
      "Editorial Calendar\n",
      "Event Calendar\n",
      "Marketing Vanguard\n",
      "Sponsor Content\n",
      "Industry Job Openings\n",
      "Subscriptions\n",
      "Subscription Options\n",
      "FAQs\n",
      "Newsletters\n",
      "Customer Service\n",
      "Events\n",
      "ADWEEK Connect\n",
      "ADWEEK Events\n",
      "Awards\n",
      "On-Demand Event Videos\n",
      "On-Demand Webinars\n",
      "Trophies / Awards / Seals\n",
      "Webinars\n",
      "Publications\n",
      "ADWEEK Blog Network\n",
      "ADWEEK Podcast Network\n",
      "Back Issues\n",
      "Buy Vintage Ads\n",
      "Reprints / E-Prints\n",
      "RSS\n",
      "©2025 Adweek - All Rights Reserved.\n",
      "Do not sell my personal information\n",
      "Terms of Use\n",
      "Privacy Policy\n"
     ]
    }
   ],
   "source": [
    "print(user_prompt_for(adWeek))"
   ]
  },
  {
   "cell_type": "code",
   "execution_count": 14,
   "id": "104770d4",
   "metadata": {},
   "outputs": [],
   "source": [
    "def messages_for(website):\n",
    "    return [\n",
    "        {\"role\": \"system\", \"content\": system_prompt},\n",
    "        {\"role\": \"user\", \"content\": user_prompt_for(website)}\n",
    "    ]\n",
    "\n",
    "messages = messages_for(adWeek)\n"
   ]
  },
  {
   "cell_type": "code",
   "execution_count": null,
   "id": "e22d691b",
   "metadata": {},
   "outputs": [],
   "source": []
  },
  {
   "cell_type": "code",
   "execution_count": null,
   "id": "66860eb8",
   "metadata": {},
   "outputs": [],
   "source": []
  },
  {
   "cell_type": "code",
   "execution_count": 15,
   "id": "6de38216-6d1c-48c4-877b-86d403f4e0f8",
   "metadata": {},
   "outputs": [
    {
     "name": "stdout",
     "output_type": "stream",
     "text": [
      "# Summary of Breaking Through the Performance Plateau Website\n",
      "\n",
      "## Overview\n",
      "The website \"Breaking Through the Performance Plateau\" discusses the evolving approach to performance advertising, where advertisers are shifting focus from generic proxy metrics to more sophisticated approaches such as media mix modeling, multitouch attribution, and incremental lift.\n",
      "\n",
      "## Industry Trends\n",
      "Several industry trends are causing stagnation in ad performance:\n",
      "\n",
      "*   **Undifferentiated audience data**: Everyone's drinking from the same data well, limiting ability to reach new audiences.\n",
      "*   **Overly restrictive brand safety**: Blunt keyword blocklists eliminate too much quality content, reducing scale or pushing spend to lower-quality placements.\n",
      "*   **Ineffective contextual targeting**: Broad, keyword-based strategies are too imprecise to deliver targeted ads.\n",
      "\n",
      "## Measuring Performance\n",
      "Admeasurement capabilities have dramatically improved with the digitization of advertising. This allows advertisers to pinpoint problems and demand better solutions. With CTV, advertisers now have more measurability than linear TV ever could.\n",
      "\n",
      "## Drive Real Incremental Lift\n",
      "The key to better results is stepping outside what's been working or not working and testing new approaches and technologies.\n",
      "\n",
      "*   **Welch’s Sparkling Grape Juice Sales**: Combined deep learning algorithms with in-store purchase data from Circana to identify genuinely new audiences, resulting in a 47% higher engagement rate.\n",
      "*   **Cognitiv’s ContextGPT Tool**: Dynamically analyzed real-time content that users were actively engaging with, delivering precisely targeted ads based on actual content engagement patterns.\n",
      "\n",
      "## Find Technology That Delivers\n",
      "Advertisers need to ask hard questions about what's genuinely different in an AI solution's approach. Cognitiv demonstrated the power of this approach by achieving a 26X lower cost per unique reach for a major entertainment company.\n",
      "\n",
      "## The Power of Ongoing Optimization\n",
      "Proper testing frameworks with controls and incremental lift analysis are essential for optimizing ad performance. This requires leveraging deep learning and sequential messaging across CTV and display to identify high-value prospects and optimize ad exposure sequencing.\n",
      "\n",
      "## Recent News\n",
      "\n",
      "*   **EXCLUSIVE: Horizon Wins Spectrum’s $450 Million Media Account**\n",
      "*   **EXCLUSIVE: Omnicom Clients Can Get $200K Value Boost for Advertising on X, Leaked Docs Show**\n",
      "*   **The New Rules of Seamless Shopping**\n",
      "*   **Scope3 Takes on IAS, DoubleVerify With Custom AI Agents for Brand Safety**\n"
     ]
    }
   ],
   "source": [
    "import ollama\n",
    "\n",
    "MODEL = \"llama3.2\"\n",
    "\n",
    "response = ollama.chat(model=MODEL, messages=messages)\n",
    "print(response['message']['content'])"
   ]
  },
  {
   "cell_type": "code",
   "execution_count": null,
   "id": "b58c808a",
   "metadata": {},
   "outputs": [],
   "source": []
  }
 ],
 "metadata": {
  "kernelspec": {
   "display_name": "Python 3 (ipykernel)",
   "language": "python",
   "name": "python3"
  },
  "language_info": {
   "codemirror_mode": {
    "name": "ipython",
    "version": 3
   },
   "file_extension": ".py",
   "mimetype": "text/x-python",
   "name": "python",
   "nbconvert_exporter": "python",
   "pygments_lexer": "ipython3",
   "version": "3.11.11"
  }
 },
 "nbformat": 4,
 "nbformat_minor": 5
}
