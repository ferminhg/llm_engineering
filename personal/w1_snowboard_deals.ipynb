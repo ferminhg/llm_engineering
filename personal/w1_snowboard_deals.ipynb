{
 "cells": [
  {
   "cell_type": "markdown",
   "metadata": {},
   "source": [
    "# Snowboard deals\n",
    "\n",
    "This LLM is going to summarize the current deals on snowboard top pages."
   ]
  },
  {
   "cell_type": "code",
   "execution_count": 73,
   "metadata": {},
   "outputs": [],
   "source": [
    "# imports\n",
    "\n",
    "import os\n",
    "import requests\n",
    "import json\n",
    "from typing import List\n",
    "from dotenv import load_dotenv\n",
    "from bs4 import BeautifulSoup\n",
    "from IPython.display import Markdown, display, update_display\n",
    "from openai import OpenAI"
   ]
  },
  {
   "cell_type": "code",
   "execution_count": null,
   "metadata": {},
   "outputs": [],
   "source": [
    "# Initialize and constants\n",
    "\n",
    "load_dotenv(override=True)\n",
    "api_key = os.getenv('OPENAI_API_KEY')\n",
    "\n",
    "if api_key and api_key.startswith('sk-proj-') and len(api_key)>10:\n",
    "    print(\"API key looks good so far\")\n",
    "else:\n",
    "    print(\"There might be a problem with your API key? Please visit the troubleshooting notebook!\")\n",
    "    \n",
    "MODEL_GPT = 'gpt-4o-mini'\n",
    "gpt_openai = OpenAI()\n",
    "\n",
    "MODEL_LLAMA = 'llama3.2'\n",
    "ollama_openai = OpenAI(base_url='http://localhost:11434/v1', api_key='ollama')\n"
   ]
  },
  {
   "cell_type": "code",
   "execution_count": 75,
   "metadata": {},
   "outputs": [],
   "source": [
    "# A class to represent a Webpage\n",
    "\n",
    "# Some websites need you to use proper headers when fetching them:\n",
    "headers = {\n",
    " \"User-Agent\": \"Mozilla/5.0 (Windows NT 10.0; Win64; x64) AppleWebKit/537.36 (KHTML, like Gecko) Chrome/117.0.0.0 Safari/537.36\"\n",
    "}\n",
    "\n",
    "class BlueTomatoWebsite:\n",
    "    \"\"\"\n",
    "    A utility class to represent a Website that we have scraped, now with links\n",
    "    \"\"\"\n",
    "    base_url = 'https://www.blue-tomato.com'\n",
    "    links = []\n",
    "\n",
    "    def __init__(self, url):\n",
    "        self.url = url\n",
    "        response = requests.get(url, headers=headers)\n",
    "        self.body = response.content\n",
    "\n",
    "        soup = BeautifulSoup(self.body, 'html.parser')\n",
    "        self.title = soup.title.string if soup.title else \"No title found\"\n",
    "\n",
    "        # get all links inside <main> tag\n",
    "        main_tag = soup.find('main')\n",
    "        links = [link.get('href') for link in main_tag.find_all('a')]\n",
    "        # Only include links with product and snowboard word in the url, and append the base url to the link\n",
    "        links = [self.base_url + link for link in links if link and '/product/' in link]\n",
    "        self.links = links[:20]\n",
    "\n",
    "        if soup.body and soup.body.find('section', {'data-testid': 'DESCRIPTION'}):\n",
    "            self.descripcion = soup.body.find('section', {'data-testid': 'DESCRIPTION'}).get_text(separator=\"\\n\", strip=True)\n",
    "        else:\n",
    "            self.descripcion = \"\"\n",
    "\n",
    "        \n",
    "    def get_contents(self):\n",
    "        return f\"Webpage Title:\\n{self.title}\\nWebpage Contents:\\n{self.text}\\n\\n\""
   ]
  },
  {
   "cell_type": "code",
   "execution_count": null,
   "metadata": {},
   "outputs": [],
   "source": [
    "bluetomato_deals = BlueTomatoWebsite('https://www.blue-tomato.com/es-ES/products/categories/Tienda+de+snowboard-00000000--Equipacion+de+snowboard-000099C0--Tablas+de+snowboard-00000001/?sort=-bestseller')\n",
    "\n",
    "bluetomato_deals.links"
   ]
  },
  {
   "cell_type": "code",
   "execution_count": 77,
   "metadata": {},
   "outputs": [],
   "source": [
    "# perform a request to each link and get the html\n",
    "\n",
    "snowboard_deals = []\n",
    "for link in bluetomato_deals.links:\n",
    "    snowboard_deals.append(BlueTomatoWebsite(link))\n",
    "\n"
   ]
  },
  {
   "cell_type": "code",
   "execution_count": 86,
   "metadata": {},
   "outputs": [],
   "source": [
    "# get the description of the all snowboard deals add the url to the description\n",
    "snowboard_descriptions = [f\"URL: {deal.url}\\n{deal.descripcion}\\n\\n\" for deal in snowboard_deals]\n",
    "\n",
    "snowboard_expert_system_prompt = \"\"\"\n",
    "You are a snowboard expert. You are given a description of a list of snowboards and you need to return a ordered list of the best snowboards for a specific style and level.\n",
    "Respond in table using markdown format, with the snowboard name and the url, and the reason why it is the best snowboard for the style and level.\n",
    "\"\"\"\n",
    "\n",
    "question = \"What is the best top 5 snowboard on this list by style and level?\"\n",
    "question += \"\\n\\n\".join(snowboard_descriptions)"
   ]
  },
  {
   "cell_type": "code",
   "execution_count": null,
   "metadata": {},
   "outputs": [],
   "source": [
    "print(snowboard_expert_system_prompt)\n",
    "print(question)"
   ]
  },
  {
   "cell_type": "code",
   "execution_count": 87,
   "metadata": {},
   "outputs": [],
   "source": [
    "def stream_response_to_markdown(stream):\n",
    "    response = \"\"\n",
    "    display_handle = display(Markdown(\"\"), display_id=True)\n",
    "    for chunk in stream:\n",
    "        response += chunk.choices[0].delta.content or ''\n",
    "        response = response.replace(\"```\",\"\").replace(\"markdown\", \"\")\n",
    "        update_display(Markdown(response), display_id=display_handle.display_id)\n",
    "    return response\n",
    "\n",
    "def ask_gpt_expert(prompt):\n",
    "    stream = gpt_openai.chat.completions.create(\n",
    "        model=MODEL_GPT,\n",
    "        messages=[\n",
    "            {\"role\": \"system\", \"content\": snowboard_expert_system_prompt}, {\"role\": \"user\", \"content\": question}\n",
    "        ],\n",
    "        stream=True\n",
    "    )\n",
    "    return stream_response_to_markdown(stream)"
   ]
  },
  {
   "cell_type": "code",
   "execution_count": 88,
   "metadata": {},
   "outputs": [
    {
     "data": {
      "text/markdown": [
       "Aquí tienes un resumen de los cinco mejores snowboards según el estilo y el nivel de freestyle:\n",
       "\n",
       "| Snowboard Name                       | URL                                                                                                                                                                                                                                          | Reason                                                                                                       |\n",
       "|--------------------------------------|----------------------------------------------------------------------------------------------------------------------------------------------------------------------------------------------------------------------------------------------|--------------------------------------------------------------------------------------------------------------|\n",
       "| **Forum Production 003**             | [Forum Production 003](https://www.blue-tomato.com/es-ES/product/Forum-Park+003+2024+Snowboard-715031/)                                                                                                                                 | Diseñada específicamente para el park, con un camber suave, True Twin y un flex ideal para freestyle.        |\n",
       "| **Lib Tech Legitimizer**             | [Lib Tech Legitimizer](https://www.blue-tomato.com/es-ES/product/Lib+Tech-Legitimizer+2025+Snowboard-729921/)                                                                                                                           | Perfecta para el park, con excelente pop y control, ideal para riders intermedios y avanzados.                |\n",
       "| **Burton Process**                   | [Burton Process](https://www.blue-tomato.com/es-ES/product/Burton-Process+2025+Snowboard-729450/)                                                                                                                                        | Ofrece un camber PurePop juguetón, ideal para freestyle all-mountain, adecuado para riders avanzados.       |\n",
       "| **Bataleon Evil Twin+**              | [Bataleon Evil Twin+](https://www.blue-tomato.com/es-ES/product/Bataleon-Evil+Twin+2025+Snowboard-734299/)                                                                                                                               | Diseñada para freestyle avanzado, con una construcción ligera para un alto rendimiento en el park.            |\n",
       "| **CAPiTA Defenders Of Awesome**      | [CAPiTA Defenders Of Awesome](https://www.blue-tomato.com/es-ES/product/CAPiTA-Defenders+Of+Awesome+2025+Snowboard-732362/)                                                                                                            | Reconocida como una de las mejores tablas de freestyle all-mountain, combina permisión y agarre en todo terreno.|\n",
       "\n",
       "Esta selección está basada en las características específicas para el freestyle y la habilidad de los riders avanzados."
      ],
      "text/plain": [
       "<IPython.core.display.Markdown object>"
      ]
     },
     "metadata": {},
     "output_type": "display_data"
    },
    {
     "data": {
      "text/plain": [
       "'Aquí tienes un resumen de los cinco mejores snowboards según el estilo y el nivel de freestyle:\\n\\n| Snowboard Name                       | URL                                                                                                                                                                                                                                          | Reason                                                                                                       |\\n|--------------------------------------|----------------------------------------------------------------------------------------------------------------------------------------------------------------------------------------------------------------------------------------------|--------------------------------------------------------------------------------------------------------------|\\n| **Forum Production 003**             | [Forum Production 003](https://www.blue-tomato.com/es-ES/product/Forum-Park+003+2024+Snowboard-715031/)                                                                                                                                 | Diseñada específicamente para el park, con un camber suave, True Twin y un flex ideal para freestyle.        |\\n| **Lib Tech Legitimizer**             | [Lib Tech Legitimizer](https://www.blue-tomato.com/es-ES/product/Lib+Tech-Legitimizer+2025+Snowboard-729921/)                                                                                                                           | Perfecta para el park, con excelente pop y control, ideal para riders intermedios y avanzados.                |\\n| **Burton Process**                   | [Burton Process](https://www.blue-tomato.com/es-ES/product/Burton-Process+2025+Snowboard-729450/)                                                                                                                                        | Ofrece un camber PurePop juguetón, ideal para freestyle all-mountain, adecuado para riders avanzados.       |\\n| **Bataleon Evil Twin+**              | [Bataleon Evil Twin+](https://www.blue-tomato.com/es-ES/product/Bataleon-Evil+Twin+2025+Snowboard-734299/)                                                                                                                               | Diseñada para freestyle avanzado, con una construcción ligera para un alto rendimiento en el park.            |\\n| **CAPiTA Defenders Of Awesome**      | [CAPiTA Defenders Of Awesome](https://www.blue-tomato.com/es-ES/product/CAPiTA-Defenders+Of+Awesome+2025+Snowboard-732362/)                                                                                                            | Reconocida como una de las mejores tablas de freestyle all-mountain, combina permisión y agarre en todo terreno.|\\n\\nEsta selección está basada en las características específicas para el freestyle y la habilidad de los riders avanzados.'"
      ]
     },
     "execution_count": 88,
     "metadata": {},
     "output_type": "execute_result"
    }
   ],
   "source": [
    "ask_gpt_expert(question)"
   ]
  },
  {
   "cell_type": "code",
   "execution_count": 90,
   "metadata": {},
   "outputs": [],
   "source": [
    "# Get Llama 3.2 to answer\n",
    "\n",
    "def ask_llama_expert(question):\n",
    "    stream = ollama_openai.chat.completions.create(\n",
    "        model=MODEL_LLAMA,\n",
    "        messages=[{\"role\": \"system\", \"content\": snowboard_expert_system_prompt}, {\"role\": \"user\", \"content\": question}],\n",
    "        stream=True\n",
    "    )\n",
    "    return stream_response_to_markdown(stream)\n",
    "\n"
   ]
  },
  {
   "cell_type": "code",
   "execution_count": 92,
   "metadata": {},
   "outputs": [
    {
     "data": {
      "text/markdown": [
       "Aquí te presento un resumen de las características y destros de cada tabla de snowboard:\n",
       "\n",
       "**1. La Defenders of Awesome de Capita**\n",
       "\n",
       "* Estilo: All-mountain con experiencia\n",
       "* Forma: True Twin\n",
       "* Perfil: Resort V1 (camber tradicional entre las fijaciones con sutil rocker en nose y tail)\n",
       "* TPU: Flex medio, ideal para freestyle y all-mountain\n",
       "* Construcción:\n",
       " + Núcleo P2 Superlight Core con certificación FSC\n",
       " + Protección lateral de Kevlar Capita Fortress\n",
       " + Suela Quantum Drive con resina Magic Bean vegetal\n",
       " * Características clave:\n",
       " - Perfil híbrido Resort V1\n",
       " - Protección lateral de kevlar Fortress\n",
       " - Suela Quantum Drive con resina Magic Bean\n",
       "\n",
       "**2. La Defenders of Awesome de Capita (edición 2025)**\n",
       "\n",
       "* Estilo: All-mountain con experiencia\n",
       "* Forma: True Twin\n",
       "* Perfil: Resort V1\n",
       "* TPU: Flex medio, ideal para freestyle y all-mountain\n",
       "* Construcción:\n",
       " + Núcleo P2 Superlight Core con certificación FSC\n",
       " + Protección lateral de Kevlar Capita Fortress\n",
       " + Suela Quantum Drive con resina Magic Bean vegetal\n",
       " * Características clave:\n",
       " - Perfil híbrido Resort V1\n",
       " - Protección lateral de kevlar Fortress\n",
       " - Suela Quantum Drive con resina Magic Bean\n",
       "\n",
       "**3. La Defenders of Awesome en la Tienda**\n",
       "\n",
       " Aquella no era tan buena como la del capi y tuvo que ser eliminada.\n",
       "\n",
       "**4. La CAPiTA Defenders Of Awesome 2025**\n",
       "\n",
       "* Estilo: All-mountain\n",
       "* Forma: Twin\n",
       "* Perfil: Resort V1\n",
       "* TPU: Flex medio, ideal para freestyle y all-mountain\n",
       "* Construcción:\n",
       " + Núcleo P2 Superlight Core con certificación FSC\n",
       " + Protección lateral de Kevlar Fortress\n",
       " + Suela Quantum Drive con resina Magic Bean vegetal\n",
       " * Características clave:\n",
       " - Perfil híbrido Resort V1\n",
       "\n",
       "**5. La Defenders of Awesome**\n",
       "\n",
       "* Estilo: All-mountain\n",
       "* Forma: Twin\n",
       "* Perfil: Resort V1\n",
       "* TPU: Flex medio, ideal para freestyle y all-mountain\n",
       "* Construcción:\n",
       " + Núcleo P2 Superlight Core con certificación FSC\n",
       " + Protección lateral de Kevlar Fortress\n",
       " * Características clave:\n",
       " - Perfil híbrido Resort V1\n",
       "\n",
       "**6. La Defenders of Awesome**\n",
       "\n",
       "* Estilo: All-mountain\n",
       "* Forma: Twin\n",
       "* Perfil: \n",
       " + TPU: No especificado.\n",
       "  * Características clave:\n",
       "   - Protección lateral de kevlar Fortress\n",
       "    - Suela Quantum Drive con resina Magic Bean"
      ],
      "text/plain": [
       "<IPython.core.display.Markdown object>"
      ]
     },
     "metadata": {},
     "output_type": "display_data"
    },
    {
     "data": {
      "text/plain": [
       "'Aquí te presento un resumen de las características y destros de cada tabla de snowboard:\\n\\n**1. La Defenders of Awesome de Capita**\\n\\n* Estilo: All-mountain con experiencia\\n* Forma: True Twin\\n* Perfil: Resort V1 (camber tradicional entre las fijaciones con sutil rocker en nose y tail)\\n* TPU: Flex medio, ideal para freestyle y all-mountain\\n* Construcción:\\n + Núcleo P2 Superlight Core con certificación FSC\\n + Protección lateral de Kevlar Capita Fortress\\n + Suela Quantum Drive con resina Magic Bean vegetal\\n * Características clave:\\n - Perfil híbrido Resort V1\\n - Protección lateral de kevlar Fortress\\n - Suela Quantum Drive con resina Magic Bean\\n\\n**2. La Defenders of Awesome de Capita (edición 2025)**\\n\\n* Estilo: All-mountain con experiencia\\n* Forma: True Twin\\n* Perfil: Resort V1\\n* TPU: Flex medio, ideal para freestyle y all-mountain\\n* Construcción:\\n + Núcleo P2 Superlight Core con certificación FSC\\n + Protección lateral de Kevlar Capita Fortress\\n + Suela Quantum Drive con resina Magic Bean vegetal\\n * Características clave:\\n - Perfil híbrido Resort V1\\n - Protección lateral de kevlar Fortress\\n - Suela Quantum Drive con resina Magic Bean\\n\\n**3. La Defenders of Awesome en la Tienda**\\n\\n Aquella no era tan buena como la del capi y tuvo que ser eliminada.\\n\\n**4. La CAPiTA Defenders Of Awesome 2025**\\n\\n* Estilo: All-mountain\\n* Forma: Twin\\n* Perfil: Resort V1\\n* TPU: Flex medio, ideal para freestyle y all-mountain\\n* Construcción:\\n + Núcleo P2 Superlight Core con certificación FSC\\n + Protección lateral de Kevlar Fortress\\n + Suela Quantum Drive con resina Magic Bean vegetal\\n * Características clave:\\n - Perfil híbrido Resort V1\\n\\n**5. La Defenders of Awesome**\\n\\n* Estilo: All-mountain\\n* Forma: Twin\\n* Perfil: Resort V1\\n* TPU: Flex medio, ideal para freestyle y all-mountain\\n* Construcción:\\n + Núcleo P2 Superlight Core con certificación FSC\\n + Protección lateral de Kevlar Fortress\\n * Características clave:\\n - Perfil híbrido Resort V1\\n\\n**6. La Defenders of Awesome**\\n\\n* Estilo: All-mountain\\n* Forma: Twin\\n* Perfil: \\n + TPU: No especificado.\\n  * Características clave:\\n   - Protección lateral de kevlar Fortress\\n    - Suela Quantum Drive con resina Magic Bean'"
      ]
     },
     "execution_count": 92,
     "metadata": {},
     "output_type": "execute_result"
    }
   ],
   "source": [
    "ask_llama_expert(question)"
   ]
  }
 ],
 "metadata": {
  "kernelspec": {
   "display_name": "Python 3 (ipykernel)",
   "language": "python",
   "name": "python3"
  }
 },
 "nbformat": 4,
 "nbformat_minor": 2
}
