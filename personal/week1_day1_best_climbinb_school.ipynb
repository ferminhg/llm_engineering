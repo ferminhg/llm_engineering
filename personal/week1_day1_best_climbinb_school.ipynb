{
 "cells": [
  {
   "cell_type": "code",
   "execution_count": 29,
   "id": "b47e147f-b493-44ee-be56-3ebcf61bb6a9",
   "metadata": {},
   "outputs": [],
   "source": [
    "# imports\n",
    "\n",
    "import os\n",
    "import requests\n",
    "import xml.etree.ElementTree as ET\n",
    "from dotenv import load_dotenv\n",
    "from openai import OpenAI\n",
    "from IPython.display import Markdown, display\n",
    "\n",
    "\n",
    "# If you get an error running this cell, then please head over to the troubleshooting notebook!"
   ]
  },
  {
   "cell_type": "code",
   "execution_count": 3,
   "id": "bacef1be-77ef-4b4a-bcc5-2623b1ff3ed7",
   "metadata": {},
   "outputs": [
    {
     "name": "stdout",
     "output_type": "stream",
     "text": [
      "API key found and looks good so far!\n"
     ]
    }
   ],
   "source": [
    "# Load environment variables in a file called .env\n",
    "\n",
    "load_dotenv(override=True)\n",
    "api_key = os.getenv('OPENAI_API_KEY')\n",
    "\n",
    "# Check the key\n",
    "\n",
    "if not api_key:\n",
    "    print(\"No API key was found - please head over to the troubleshooting notebook in this folder to identify & fix!\")\n",
    "elif not api_key.startswith(\"sk-proj-\"):\n",
    "    print(\"An API key was found, but it doesn't start sk-proj-; please check you're using the right key - see troubleshooting notebook\")\n",
    "elif api_key.strip() != api_key:\n",
    "    print(\"An API key was found, but it looks like it might have space or tab characters at the start or end - please remove them - see troubleshooting notebook\")\n",
    "else:\n",
    "    print(\"API key found and looks good so far!\")\n"
   ]
  },
  {
   "cell_type": "code",
   "execution_count": 4,
   "id": "48840f9e-dad0-44f8-8316-e3af33f858f5",
   "metadata": {},
   "outputs": [],
   "source": [
    "openai = OpenAI()\n"
   ]
  },
  {
   "cell_type": "code",
   "execution_count": 14,
   "id": "18517eb3-11da-4cdc-8d9b-e8025bf73375",
   "metadata": {},
   "outputs": [],
   "source": [
    "# url = \"https://www.aemet.es/xml/municipios/localidad_03066.xml\"\n",
    "# response = requests.get(url)\n",
    "# root = ET.fromstring(response.content)\n",
    "\n",
    "class XMLCityWeather:\n",
    "    def __init__(self, url):\n",
    "        self.url = url\n",
    "        self.root = ET.fromstring(requests.get(url).content)\n",
    "\n",
    "    def xml(self):\n",
    "        return ET.tostring(self.root, encoding='unicode')\n",
    "\n",
    "    def get_city(self):\n",
    "        return self.root.find('nombre').text + \" (\" + self.root.find('provincia').text + \")\"\n"
   ]
  },
  {
   "cell_type": "code",
   "execution_count": 19,
   "id": "7a4f8886-e085-4d7e-9b6c-95a6b6d5ede2",
   "metadata": {},
   "outputs": [],
   "source": [
    "climbing_schools = [\n",
    "  {\n",
    "    \"name\": \"Marin\",\n",
    "    \"xml_url\": \"https://www.aemet.es/xml/municipios/localidad_03066.xml\",\n",
    "  },\n",
    "  {\n",
    "    \"name\": \"Sax\",\n",
    "    \"xml_url\": \"https://www.aemet.es/xml/municipios/localidad_03123.xml\",\n",
    "  },\n",
    "  {\n",
    "    \"name\": \"Aspe\",\n",
    "    \"xml_url\": \"https://www.aemet.es/xml/municipios/localidad_03019.xml\",\n",
    "  }\n",
    "]\n",
    "\n",
    "elda = XMLCityWeather(climbing_schools[0][\"xml_url\"])\n",
    "sax = XMLCityWeather(climbing_schools[1][\"xml_url\"])\n",
    "aspe = XMLCityWeather(climbing_schools[2][\"xml_url\"])\n",
    "alicante_climbing_schools = [elda, sax, aspe]\n"
   ]
  },
  {
   "cell_type": "code",
   "execution_count": 24,
   "id": "d9a6efa1",
   "metadata": {},
   "outputs": [],
   "source": [
    "system_prompt = \"You are an assistant that analyzes the xml of a city with weather information \\\n",
    "and provides a short summary of the weather for the next 7 days from the perspective of a rock climber. \\\n",
    "Respond in markdown.\"\n",
    "\n",
    "def user_prompt_for(climbing_schools):\n",
    "    user_prompt = f\"You are looking a xml with weather information for a climbing school\"\n",
    "    user_prompt += \"\\nThe contents of this xml is as follows; \\\n",
    "please provide a short summary of this xml in markdown. \\\n",
    "And provider the best climbing school based on the weather information for the next 7 days.\\n\\n\"\n",
    "    for school in climbing_schools:\n",
    "        user_prompt += school.get_city() + \"\\n\"\n",
    "        user_prompt += school.xml() + \"\\n\\n\"\n",
    "    return user_prompt\n",
    "\n"
   ]
  },
  {
   "cell_type": "code",
   "execution_count": 25,
   "id": "692fcbc2",
   "metadata": {},
   "outputs": [],
   "source": [
    "def messages_for(climbing_schools):\n",
    "    return [\n",
    "        {\"role\": \"system\", \"content\": system_prompt},\n",
    "        {\"role\": \"user\", \"content\": user_prompt_for(climbing_schools)}\n",
    "    ]"
   ]
  },
  {
   "cell_type": "code",
   "execution_count": 26,
   "id": "279e9a14",
   "metadata": {},
   "outputs": [],
   "source": [
    "def best_climbing_school(climbing_schools):\n",
    "    response = openai.chat.completions.create(\n",
    "        model = \"gpt-4o-mini\",\n",
    "        messages = messages_for(climbing_schools)\n",
    "    )\n",
    "    return response.choices[0].message.content"
   ]
  },
  {
   "cell_type": "code",
   "execution_count": 30,
   "id": "c9044daa",
   "metadata": {},
   "outputs": [
    {
     "data": {
      "text/markdown": [
       "# Weather Summary for Climbers in Elda, Sax, and Aspe (April 2025)\n",
       "\n",
       "## Elda\n",
       "- **March 31**: Clear skies with temperatures ranging from 6°C to 25°C. Excellent day for climbing, as no precipitation is expected.\n",
       "- **April 1**: Mostly sunny with temperatures of 9°C to 23°C. Very favorable conditions for climbing.\n",
       "- **April 2**: Expect cloudy skies with a 55% chance of light rain. Temperatures from 9°C to 19°C; climbing may be impacted.\n",
       "- **April 3**: Intervals of clouds with a 35% chance of rain. Temperatures between 10°C and 23°C, potentially manageable for climbing with good equipment.\n",
       "- **April 4**: 70% chance of rain with cloudy skies. Not ideal for climbing, with high humidity levels.\n",
       "- **April 5**: Only a 10% chance of precipitation, great intervals of clouds, and temperatures between 10°C and 22°C. Good climbing day.\n",
       "- **April 6**: A 20% chance of rain, and conditions remain reasonable for climbing with temperatures up to 22°C.\n",
       "\n",
       "### **Best Day for Climbing in Elda:** April 1\n",
       "\n",
       "## Sax\n",
       "- **March 31**: Clear skies throughout the day, temperatures between 5°C and 25°C. Perfect conditions for climbing.\n",
       "- **April 1**: Similar to Elda, expect sunny skies with temps from 7°C to 23°C. Ideal for outdoor activities.\n",
       "- **April 2**: 60% chance of rain with cloudy weather. Temperatures between 8°C and 19°C; best to check the weather closely.\n",
       "- **April 3**: 35% chance of rain but mostly overcast. Temperatures ranging from 9°C to 22°C; climbing may be possible but less favorable.\n",
       "- **April 4**: High probability of light rain (75%). It's best to avoid climbing.\n",
       "- **April 5**: Low chance of rain (10%). Ideal conditions with temperatures between 8°C and 21°C.\n",
       "- **April 6**: 25% chance of rain. A relatively good day to climb with temps reaching 21°C.\n",
       "\n",
       "### **Best Day for Climbing in Sax:** April 1\n",
       "\n",
       "## Aspe\n",
       "- **March 31**: Clear and sunny with temperatures from 7°C to 26°C. Excellent climbing weather.\n",
       "- **April 1**: Generally sunny with some high clouds. Temperatures between 11°C and 23°C; perfect for climbing.\n",
       "- **April 2**: 45% chance of precipitation and a mostly cloudy day. Highs around 20°C can make conditions tricky.\n",
       "- **April 3**: 25% chance of rain in the morning with slightly improving conditions in the afternoon. Temps between 9°C and 23°C.\n",
       "- **April 4**: A 60% chance of rain means climbing is discouraged.\n",
       "- **April 5**: Low precipitation chance (10%), breaking clouds, with temperatures reaching 25°C—not bad for climbing.\n",
       "- **April 6**: A 20% chance of rain and temperatures reaching 24°C, making it another day with potential for climbing.\n",
       "\n",
       "### **Best Day for Climbing in Aspe:** April 1\n",
       "\n",
       "## **Conclusion: Best Climbing School**\n",
       "Based on the weather forecast for the next week, **Sax** appears to have the best overall conditions for outdoor climbing, especially on April 1. The lack of precipitation and favorable temperatures make it an excellent choice for climbers looking for ideal weather conditions."
      ],
      "text/plain": [
       "<IPython.core.display.Markdown object>"
      ]
     },
     "metadata": {},
     "output_type": "display_data"
    }
   ],
   "source": [
    "def display_summary(climbing_schools):\n",
    "    summary = best_climbing_school(climbing_schools)\n",
    "    display(Markdown(summary))\n",
    "\n",
    "display_summary(alicante_climbing_schools)"
   ]
  }
 ],
 "metadata": {
  "kernelspec": {
   "display_name": "Python 3 (ipykernel)",
   "language": "python",
   "name": "python3"
  }
 },
 "nbformat": 4,
 "nbformat_minor": 5
}
